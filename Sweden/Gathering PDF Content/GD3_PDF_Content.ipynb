{
 "cells": [
  {
   "cell_type": "markdown",
   "metadata": {},
   "source": [
    "# Load Libraries and Set Settings"
   ]
  },
  {
   "cell_type": "code",
   "execution_count": 1,
   "metadata": {},
   "outputs": [],
   "source": [
    "# Libraries\n",
    "import requests\n",
    "from bs4 import BeautifulSoup\n",
    "import pandas as pd\n",
    "import PyPDF2\n",
    "from io import BytesIO\n",
    "from tqdm import tqdm\n",
    "import time\n",
    "import csv\n",
    "import sys\n",
    "from random import randint\n",
    "\n",
    "# Other Settings\n",
    "pd.set_option('display.max.colwidth', None) # max display width"
   ]
  },
  {
   "cell_type": "markdown",
   "metadata": {},
   "source": [
    "# Load Data"
   ]
  },
  {
   "cell_type": "code",
   "execution_count": 34,
   "metadata": {},
   "outputs": [],
   "source": [
    "# Load data from CSV file into a DataFrame\n",
    "article_link_directory = pd.read_csv('article_link_directory.csv')"
   ]
  },
  {
   "cell_type": "markdown",
   "metadata": {},
   "source": [
    "### Subset the data for quick-time tests"
   ]
  },
  {
   "cell_type": "code",
   "execution_count": 41,
   "metadata": {},
   "outputs": [],
   "source": [
    "practice_article_link_directory = article_link_directory.head(10)"
   ]
  },
  {
   "cell_type": "code",
   "execution_count": 42,
   "metadata": {},
   "outputs": [
    {
     "data": {
      "text/html": [
       "<div>\n",
       "<style scoped>\n",
       "    .dataframe tbody tr th:only-of-type {\n",
       "        vertical-align: middle;\n",
       "    }\n",
       "\n",
       "    .dataframe tbody tr th {\n",
       "        vertical-align: top;\n",
       "    }\n",
       "\n",
       "    .dataframe thead th {\n",
       "        text-align: right;\n",
       "    }\n",
       "</style>\n",
       "<table border=\"1\" class=\"dataframe\">\n",
       "  <thead>\n",
       "    <tr style=\"text-align: right;\">\n",
       "      <th></th>\n",
       "      <th>Content Links</th>\n",
       "      <th>Publishing Info</th>\n",
       "      <th>Collected Links</th>\n",
       "      <th>Outside PDF Text</th>\n",
       "      <th>Full Collected Links</th>\n",
       "    </tr>\n",
       "  </thead>\n",
       "  <tbody>\n",
       "    <tr>\n",
       "      <th>0</th>\n",
       "      <td>https://www.regeringen.se/remisser/2023/11/inbjudan-till-larosaten-myndigheter-och-organisationer-att-inkomma-med-synpunkter-till-regeringens-forskningspolitik/</td>\n",
       "      <td>Publicerad02 november 2023· Uppdaterad10 november 2023·RemissfrånUtbildningsdepartementet</td>\n",
       "      <td>/contentassets/c9981cbd1c054e3fa1a2a917d3e22939/inbjudan-till-larosatena-att-inkomma-med-underlag-till-regeringens-forskningspolitik.pdf</td>\n",
       "      <td>NO CONTENT</td>\n",
       "      <td>https://www.regeringen.se/contentassets/c9981cbd1c054e3fa1a2a917d3e22939/inbjudan-till-larosatena-att-inkomma-med-underlag-till-regeringens-forskningspolitik.pdf</td>\n",
       "    </tr>\n",
       "  </tbody>\n",
       "</table>\n",
       "</div>"
      ],
      "text/plain": [
       "                                                                                                                                                      Content Links  \\\n",
       "0  https://www.regeringen.se/remisser/2023/11/inbjudan-till-larosaten-myndigheter-och-organisationer-att-inkomma-med-synpunkter-till-regeringens-forskningspolitik/   \n",
       "\n",
       "                                                                             Publishing Info  \\\n",
       "0  Publicerad02 november 2023· Uppdaterad10 november 2023·RemissfrånUtbildningsdepartementet   \n",
       "\n",
       "                                                                                                                            Collected Links  \\\n",
       "0  /contentassets/c9981cbd1c054e3fa1a2a917d3e22939/inbjudan-till-larosatena-att-inkomma-med-underlag-till-regeringens-forskningspolitik.pdf   \n",
       "\n",
       "  Outside PDF Text  \\\n",
       "0       NO CONTENT   \n",
       "\n",
       "                                                                                                                                                Full Collected Links  \n",
       "0  https://www.regeringen.se/contentassets/c9981cbd1c054e3fa1a2a917d3e22939/inbjudan-till-larosatena-att-inkomma-med-underlag-till-regeringens-forskningspolitik.pdf  "
      ]
     },
     "execution_count": 42,
     "metadata": {},
     "output_type": "execute_result"
    }
   ],
   "source": [
    "practice_article_link_directory.head(1)"
   ]
  },
  {
   "cell_type": "markdown",
   "metadata": {},
   "source": [
    "# Collect Text Data from PDF Links"
   ]
  },
  {
   "cell_type": "markdown",
   "metadata": {},
   "source": [
    "### Collect data"
   ]
  },
  {
   "cell_type": "code",
   "execution_count": 43,
   "metadata": {},
   "outputs": [
    {
     "name": "stderr",
     "output_type": "stream",
     "text": [
      "Step 2: Collecting PDF Text: 100%|██████████| 10/10 [00:55<00:00,  5.55s/link]\n"
     ]
    }
   ],
   "source": [
    "# COLLECT PDF TEXT CONTENT\n",
    "\n",
    "# Initialize an empty list to collect text data from PDFs\n",
    "pdf_text_data = []\n",
    "\n",
    "for pdf_url in tqdm(practice_article_link_directory['Full Collected Links'], desc = \"Step 2: Collecting PDF Text\", unit = \"link\"):\n",
    "    \n",
    "    # Check if the URL contains the NO CONTENT alert\n",
    "    if \"NO CONTENT\" in pdf_url:\n",
    "        # If yes, append \"NO CONTENT\" to pdf_text_data and continue to the next URL\n",
    "        pdf_text_data.append(\"NO CONTENT\")\n",
    "\n",
    "    else:\n",
    "        try:\n",
    "            # Send an HTTP GET request to the PDF URL\n",
    "            response = requests.get(pdf_url)\n",
    "\n",
    "            # Check if the request was successful (status code 200)\n",
    "            if response.status_code == 200:\n",
    "                # Wrap the response content in a BytesIO object\n",
    "                pdf_bytes = BytesIO(response.content)\n",
    "\n",
    "                # Create a PDF reader object\n",
    "                pdf_reader = PyPDF2.PdfReader(pdf_bytes)\n",
    "\n",
    "                # Initialize an empty string to store the text data\n",
    "                text_data = \"\"\n",
    "\n",
    "                # Use len(reader.pages) to determine the number of pages\n",
    "                for page_num in range(len(pdf_reader.pages)):\n",
    "                    page = pdf_reader.pages[page_num]\n",
    "                    text_data += page.extract_text()\n",
    "\n",
    "                # Append the extracted text to the pdf_text_data list\n",
    "                pdf_text_data.append(text_data)\n",
    "            else:\n",
    "                print(f\"Failed to fetch PDF URL: {pdf_url}, Status code: {response.status_code}\")\n",
    "                pdf_text_data.append(\"NO CONTENT\")\n",
    "\n",
    "        except Exception as e:\n",
    "            print(f\"An error occurred while processing PDF URL: {pdf_url}, Error: {str(e)}\")\n",
    "            pdf_text_data.append(\"NO CONTENT\")\n",
    "\n",
    "    # Introduce a random delay time before the next request\n",
    "    time.sleep(3)  # Adjust the delay time as needed\n"
   ]
  },
  {
   "cell_type": "code",
   "execution_count": 44,
   "metadata": {},
   "outputs": [
    {
     "name": "stderr",
     "output_type": "stream",
     "text": [
      "C:\\Users\\ryanh\\AppData\\Local\\Temp\\ipykernel_28180\\3828830412.py:2: SettingWithCopyWarning: \n",
      "A value is trying to be set on a copy of a slice from a DataFrame.\n",
      "Try using .loc[row_indexer,col_indexer] = value instead\n",
      "\n",
      "See the caveats in the documentation: https://pandas.pydata.org/pandas-docs/stable/user_guide/indexing.html#returning-a-view-versus-a-copy\n",
      "  practice_article_link_directory['Inside PDF Text'] = pdf_text_data\n"
     ]
    }
   ],
   "source": [
    "# Create a new column \"Inside PDF Text\" in article_link_directory and assign pdf_text_data to it\n",
    "practice_article_link_directory['Inside PDF Text'] = pdf_text_data"
   ]
  },
  {
   "cell_type": "code",
   "execution_count": 45,
   "metadata": {},
   "outputs": [
    {
     "data": {
      "text/html": [
       "<div>\n",
       "<style scoped>\n",
       "    .dataframe tbody tr th:only-of-type {\n",
       "        vertical-align: middle;\n",
       "    }\n",
       "\n",
       "    .dataframe tbody tr th {\n",
       "        vertical-align: top;\n",
       "    }\n",
       "\n",
       "    .dataframe thead th {\n",
       "        text-align: right;\n",
       "    }\n",
       "</style>\n",
       "<table border=\"1\" class=\"dataframe\">\n",
       "  <thead>\n",
       "    <tr style=\"text-align: right;\">\n",
       "      <th></th>\n",
       "      <th>Content Links</th>\n",
       "      <th>Publishing Info</th>\n",
       "      <th>Collected Links</th>\n",
       "      <th>Outside PDF Text</th>\n",
       "      <th>Full Collected Links</th>\n",
       "      <th>Inside PDF Text</th>\n",
       "    </tr>\n",
       "  </thead>\n",
       "  <tbody>\n",
       "    <tr>\n",
       "      <th>0</th>\n",
       "      <td>https://www.regeringen.se/remisser/2023/11/inbjudan-till-larosaten-myndigheter-och-organisationer-att-inkomma-med-synpunkter-till-regeringens-forskningspolitik/</td>\n",
       "      <td>Publicerad02 november 2023· Uppdaterad10 november 2023·RemissfrånUtbildningsdepartementet</td>\n",
       "      <td>/contentassets/c9981cbd1c054e3fa1a2a917d3e22939/inbjudan-till-larosatena-att-inkomma-med-underlag-till-regeringens-forskningspolitik.pdf</td>\n",
       "      <td>NO CONTENT</td>\n",
       "      <td>https://www.regeringen.se/contentassets/c9981cbd1c054e3fa1a2a917d3e22939/inbjudan-till-larosatena-att-inkomma-med-underlag-till-regeringens-forskningspolitik.pdf</td>\n",
       "      <td>\\n  \\n \\n \\n2023 -04-26 \\nU2023/01467  \\n  \\n  \\n  \\nUtbildningsdepartementet  \\nUtbildningsministern  Rektorer enligt sändlista   \\n \\n \\nTelefonväxel: 08 -405 10 00  \\nFax: 08 -24 46 31  \\nWebb: www.regeringen.se  Postadress: 103 33 Stockholm  \\nBesöksadress: Drottninggatan 16  \\nE-post: u.registrator@regeringskansliet.se  \\n \\nInbjudan att inkomma med underlag till regeringens forsknings - \\noch innovationspolitik  \\nSom ett led i regeringens arbete med en kommande forsknings - och \\ninnovationspolitisk proposition, bjuder regeringen in universitet och \\nhögskolor att inkomma med underlag som kan bidra till regeringens \\nforsknings - och innovationspolitik, vars fokus är excellens, internationa -\\nlisering och innovation.  \\nI regeringsförklaringen 2022 har statsministern uttalat att utbildning och \\nforskning av hög kvalitet är h elt avgörande för Sveriges välstånd  och att det \\nsvenska näringslivet är ett drivhus för innovation och är världsledande inom \\nhållbarhet . Obunden forskning är en omistlig beståndsdel i det öppna sam -\\nhället.  Högre utbildning och forskning är avgörande för Sv eriges kompetens -\\nförsörjning och för att Sverige ska kunna möta olika samhällsutmaningar.  \\nRegeringen anser att en tydlig inriktning mot excellens krävs för att svensk \\nforskning ska vara konkurrenskraftig. Utbildning och forskning ska hålla en \\ninternationel lt sett hög kvalitet och bedrivas effektivt. Internationalisering, \\ninklusive student -, doktorand - och forskarmobilitet, är viktiga medel för att \\nsvensk forskning och innovation ska kunna nå högsta kvalitet. Det ska finnas \\nbra villkor för forskning och inno vation för det svenska näringslivet. Läro -\\nsätena ska ha goda förutsättningar att nyttiggöra forskningsresultat samt att \\nbidra till innovation och svensk konkurrenskraft . Den akademiska friheten \\nska främjas, värnas och bidra till ett öppet samhälle. Lärosät ena ska samverka \\nmed det omgivande samhället för ömsesidigt utbyte och verka för att utbild -\\nning och forskning kommer samhället till nytta. En fråga som vi  behöver ha \\nett förstärkt fokus på framöver är  samtidigt  de utmaningar och säkerhets -\\nrisker  som internationa lisering  kan innebära . 2 (4) \\n \\n Med detta brev vill jag inbjuda er att inkomma med underlag inför \\nkommande forsknings - och innovationspolitiska proposition. Delge gärna de \\nforsknings prioriteringar som har gjorts på ert lärosäte och hur den framtida \\ninriktningen ser ut. Kommentera i synnerhet hur lärosätets verksamhet \\nförhåller sig till de politiska prioriteringarna hög kvalitet i forskning och \\nutbildning, internationalisering  och innovation.  Kommentera även ert arbete \\nmed samverkan, med fokus på hur fors kningsresultat kan nyttiggöras.   \\nKommentera gärna i ert underlag hur ni arbetar med profilområden. Att \\nlärosätena arbetar strategiskt med att profilera sin forskning kan bidra till \\nexcellens och konkurrenskraft och regeringen kommer därför följa det \\narbete  som pågår och vilka överväganden som lärosätena hittills har gjort när \\ndet gäller profilområden. Regeringen avser att i den forsknings - och innova -\\ntions politiska propositionen återkomma i frågan om hur lärosätenas anslag \\ntill forskning och utbildning på forskarnivå ska fördelas. Något ansöknings -\\nförfarande rörande profilområden kommer inte att initieras innan dess.  \\nEventuella synpunkter avseende den statliga organisationen för extern \\nforsknings - och innovationsfinansiering  lämnas inte i det ta underlag. Det \\nkommer att finnas möjlighet att lämna sådana synpunkter efter att den \\npågående utredningen En effektiv organisation för statlig forsknings -\\nfinansiering (U2022:06) har lämnat sitt betänkande.  \\nRegeringen har även gett Forskningsrådet för hä lsa, arbetsliv och välfärd \\n(Forte), Forskningsrådet för miljö, areella näringar och samhällsbyggande \\n(Formas), Rymdstyrelsen, Statens energimyndighet , Verket för innovations -\\nsystem (Vinnova) och Vetenskapsrådet i uppdrag att utifrån sina respektive \\nansvars områden göra analyser och lämna rekommendationer som kan bidra \\ntill regeringens forsknings - och innovationspolitik (dnr. U2023/01317 ).  \\nSenas t den 31  oktober  2023 önskar Utbildningsdepartementet  ta emot \\nunderlaget till u.registrator@regeringskansliet.se . Ange dnr. U2023/01467.  \\nNär det gäller Sveriges Lantbruksuniversitet skickas underlag et till både \\nUtbildningsdepartementet och Landsbygds - och infrastruktur departementet. \\nSvaren kommer att läggas ut på regeringens hemsida.  \\nVänliga hälsningar,  \\n \\nMats Persson  3 (4) \\n \\n Sändlista  \\nUppsala universitet  \\nLunds universitet  \\nGöteborgs universitet  \\nStockholms universitet  \\nUmeå universitet  \\nLinköpings universitet  \\nKarolinska institutet  \\nKungl. Tekniska högskolan  \\nLuleå tekniska universitet  \\nKarlstads universitet  \\nLinnéuniversitetet  \\nÖrebro universitet  \\nMittuniversitetet  \\nMalmö universitet  \\nMälardal ens universitet  \\nSveriges lantbruksuniversitet  \\nBlekinge tekniska högskola  \\nFörsvarshögskolan  \\nGymnastik - och idrottshögskolan  \\nHögskolan i Borås  \\nHögskolan Dalarna  \\nHögskolan i Gävle  \\nHögskolan i Halmstad  \\nHögskolan Kristianstad  \\nHögskolan i Skövde  \\nHögskolan Väst  \\nKonstfack  \\nKungl. Konsthögskolan  \\nKungl. Musikhögskolan i Stockholm  \\nStockholms konstnärliga högskola  \\nSödertörns högskola  \\nAkademi för Ledarskap och Teologi  \\nBeckmans skola AB  \\nChalmers Tekniska Högskola AB  \\nEnskilda Högskolan Stockholm AB  \\nEricastiftelsen  \\nJohannelunds teologiska högskola  4 (4) \\n \\n Handelshögskolan i Stockholm  \\nMarie Cederschiöld högskola AB  \\nNewmaninstitutet AB  \\nSophiahemmet, Ideell förening  \\nStiftelsen Högskolan i Jönköping  \\nStiftelsen Rödakorshemmet  \\nStiftelsen Stockholms Musikpedagogiska  Institut  \\n \\n \\n</td>\n",
       "    </tr>\n",
       "  </tbody>\n",
       "</table>\n",
       "</div>"
      ],
      "text/plain": [
       "                                                                                                                                                      Content Links  \\\n",
       "0  https://www.regeringen.se/remisser/2023/11/inbjudan-till-larosaten-myndigheter-och-organisationer-att-inkomma-med-synpunkter-till-regeringens-forskningspolitik/   \n",
       "\n",
       "                                                                             Publishing Info  \\\n",
       "0  Publicerad02 november 2023· Uppdaterad10 november 2023·RemissfrånUtbildningsdepartementet   \n",
       "\n",
       "                                                                                                                            Collected Links  \\\n",
       "0  /contentassets/c9981cbd1c054e3fa1a2a917d3e22939/inbjudan-till-larosatena-att-inkomma-med-underlag-till-regeringens-forskningspolitik.pdf   \n",
       "\n",
       "  Outside PDF Text  \\\n",
       "0       NO CONTENT   \n",
       "\n",
       "                                                                                                                                                Full Collected Links  \\\n",
       "0  https://www.regeringen.se/contentassets/c9981cbd1c054e3fa1a2a917d3e22939/inbjudan-till-larosatena-att-inkomma-med-underlag-till-regeringens-forskningspolitik.pdf   \n",
       "\n",
       "                                                                                                                                                                                                                                                                                                                                                                                                                                                                                                                                                                                                                                                                                                                                                                                                                                                                                                                                                                                                                                                                                                                                                                                                                                                                                                                                                                                                                                                                                                                                                                                                                                                                                                                                                                                                                                                                                                                                                                                                                                                                                                                                                                                                                                                                                                                                                                                                                                                                                                                                                                                                                                                                                                                                                                                                                                                                                                                                                                                                                                                                                                                                                                                                                                                                                                                                                                                                                                                                                                                                                                                                                                                                                                                                                                                                                                                                                                                                                                                                                                                                                                                                                                                                                                                                                                                                                                                                                                                                                                                                                                                                                                                                                                                                                                                                                                                                                                                                                                                                                                                                                                                                                                                                                                                                                                                                                                                                                                                                                                                                                                                                                                                                                                                                                                                                                                                                                                                                                                                                                                          Inside PDF Text  \n",
       "0      \\n  \\n \\n \\n2023 -04-26 \\nU2023/01467  \\n  \\n  \\n  \\nUtbildningsdepartementet  \\nUtbildningsministern  Rektorer enligt sändlista   \\n \\n \\nTelefonväxel: 08 -405 10 00  \\nFax: 08 -24 46 31  \\nWebb: www.regeringen.se  Postadress: 103 33 Stockholm  \\nBesöksadress: Drottninggatan 16  \\nE-post: u.registrator@regeringskansliet.se  \\n \\nInbjudan att inkomma med underlag till regeringens forsknings - \\noch innovationspolitik  \\nSom ett led i regeringens arbete med en kommande forsknings - och \\ninnovationspolitisk proposition, bjuder regeringen in universitet och \\nhögskolor att inkomma med underlag som kan bidra till regeringens \\nforsknings - och innovationspolitik, vars fokus är excellens, internationa -\\nlisering och innovation.  \\nI regeringsförklaringen 2022 har statsministern uttalat att utbildning och \\nforskning av hög kvalitet är h elt avgörande för Sveriges välstånd  och att det \\nsvenska näringslivet är ett drivhus för innovation och är världsledande inom \\nhållbarhet . Obunden forskning är en omistlig beståndsdel i det öppna sam -\\nhället.  Högre utbildning och forskning är avgörande för Sv eriges kompetens -\\nförsörjning och för att Sverige ska kunna möta olika samhällsutmaningar.  \\nRegeringen anser att en tydlig inriktning mot excellens krävs för att svensk \\nforskning ska vara konkurrenskraftig. Utbildning och forskning ska hålla en \\ninternationel lt sett hög kvalitet och bedrivas effektivt. Internationalisering, \\ninklusive student -, doktorand - och forskarmobilitet, är viktiga medel för att \\nsvensk forskning och innovation ska kunna nå högsta kvalitet. Det ska finnas \\nbra villkor för forskning och inno vation för det svenska näringslivet. Läro -\\nsätena ska ha goda förutsättningar att nyttiggöra forskningsresultat samt att \\nbidra till innovation och svensk konkurrenskraft . Den akademiska friheten \\nska främjas, värnas och bidra till ett öppet samhälle. Lärosät ena ska samverka \\nmed det omgivande samhället för ömsesidigt utbyte och verka för att utbild -\\nning och forskning kommer samhället till nytta. En fråga som vi  behöver ha \\nett förstärkt fokus på framöver är  samtidigt  de utmaningar och säkerhets -\\nrisker  som internationa lisering  kan innebära . 2 (4) \\n \\n Med detta brev vill jag inbjuda er att inkomma med underlag inför \\nkommande forsknings - och innovationspolitiska proposition. Delge gärna de \\nforsknings prioriteringar som har gjorts på ert lärosäte och hur den framtida \\ninriktningen ser ut. Kommentera i synnerhet hur lärosätets verksamhet \\nförhåller sig till de politiska prioriteringarna hög kvalitet i forskning och \\nutbildning, internationalisering  och innovation.  Kommentera även ert arbete \\nmed samverkan, med fokus på hur fors kningsresultat kan nyttiggöras.   \\nKommentera gärna i ert underlag hur ni arbetar med profilområden. Att \\nlärosätena arbetar strategiskt med att profilera sin forskning kan bidra till \\nexcellens och konkurrenskraft och regeringen kommer därför följa det \\narbete  som pågår och vilka överväganden som lärosätena hittills har gjort när \\ndet gäller profilområden. Regeringen avser att i den forsknings - och innova -\\ntions politiska propositionen återkomma i frågan om hur lärosätenas anslag \\ntill forskning och utbildning på forskarnivå ska fördelas. Något ansöknings -\\nförfarande rörande profilområden kommer inte att initieras innan dess.  \\nEventuella synpunkter avseende den statliga organisationen för extern \\nforsknings - och innovationsfinansiering  lämnas inte i det ta underlag. Det \\nkommer att finnas möjlighet att lämna sådana synpunkter efter att den \\npågående utredningen En effektiv organisation för statlig forsknings -\\nfinansiering (U2022:06) har lämnat sitt betänkande.  \\nRegeringen har även gett Forskningsrådet för hä lsa, arbetsliv och välfärd \\n(Forte), Forskningsrådet för miljö, areella näringar och samhällsbyggande \\n(Formas), Rymdstyrelsen, Statens energimyndighet , Verket för innovations -\\nsystem (Vinnova) och Vetenskapsrådet i uppdrag att utifrån sina respektive \\nansvars områden göra analyser och lämna rekommendationer som kan bidra \\ntill regeringens forsknings - och innovationspolitik (dnr. U2023/01317 ).  \\nSenas t den 31  oktober  2023 önskar Utbildningsdepartementet  ta emot \\nunderlaget till u.registrator@regeringskansliet.se . Ange dnr. U2023/01467.  \\nNär det gäller Sveriges Lantbruksuniversitet skickas underlag et till både \\nUtbildningsdepartementet och Landsbygds - och infrastruktur departementet. \\nSvaren kommer att läggas ut på regeringens hemsida.  \\nVänliga hälsningar,  \\n \\nMats Persson  3 (4) \\n \\n Sändlista  \\nUppsala universitet  \\nLunds universitet  \\nGöteborgs universitet  \\nStockholms universitet  \\nUmeå universitet  \\nLinköpings universitet  \\nKarolinska institutet  \\nKungl. Tekniska högskolan  \\nLuleå tekniska universitet  \\nKarlstads universitet  \\nLinnéuniversitetet  \\nÖrebro universitet  \\nMittuniversitetet  \\nMalmö universitet  \\nMälardal ens universitet  \\nSveriges lantbruksuniversitet  \\nBlekinge tekniska högskola  \\nFörsvarshögskolan  \\nGymnastik - och idrottshögskolan  \\nHögskolan i Borås  \\nHögskolan Dalarna  \\nHögskolan i Gävle  \\nHögskolan i Halmstad  \\nHögskolan Kristianstad  \\nHögskolan i Skövde  \\nHögskolan Väst  \\nKonstfack  \\nKungl. Konsthögskolan  \\nKungl. Musikhögskolan i Stockholm  \\nStockholms konstnärliga högskola  \\nSödertörns högskola  \\nAkademi för Ledarskap och Teologi  \\nBeckmans skola AB  \\nChalmers Tekniska Högskola AB  \\nEnskilda Högskolan Stockholm AB  \\nEricastiftelsen  \\nJohannelunds teologiska högskola  4 (4) \\n \\n Handelshögskolan i Stockholm  \\nMarie Cederschiöld högskola AB  \\nNewmaninstitutet AB  \\nSophiahemmet, Ideell förening  \\nStiftelsen Högskolan i Jönköping  \\nStiftelsen Rödakorshemmet  \\nStiftelsen Stockholms Musikpedagogiska  Institut  \\n \\n \\n   "
      ]
     },
     "execution_count": 45,
     "metadata": {},
     "output_type": "execute_result"
    }
   ],
   "source": [
    "practice_article_link_directory.head(1)"
   ]
  }
 ],
 "metadata": {
  "kernelspec": {
   "display_name": "capstone",
   "language": "python",
   "name": "python3"
  },
  "language_info": {
   "codemirror_mode": {
    "name": "ipython",
    "version": 3
   },
   "file_extension": ".py",
   "mimetype": "text/x-python",
   "name": "python",
   "nbconvert_exporter": "python",
   "pygments_lexer": "ipython3",
   "version": "3.10.12"
  },
  "orig_nbformat": 4
 },
 "nbformat": 4,
 "nbformat_minor": 2
}
